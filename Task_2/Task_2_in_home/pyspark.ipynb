{
 "cells": [
  {
   "cell_type": "code",
   "execution_count": 1,
   "metadata": {},
   "outputs": [],
   "source": [
    "from pyspark.sql import SparkSession\r\n",
    "from pyspark.sql.functions import to_json,col\r\n",
    "from pyspark.sql.types import *\r\n",
    "from os.path import abspath\r\n",
    "\r\n",
    "spark = SparkSession\\\r\n",
    "        .builder\\\r\n",
    "        .appName(\"pyspark-notebook\")\\\r\n",
    "        .master(\"spark://spark-master:7077\")\\\r\n",
    "        .config(\"spark.executor.memory\", \"512m\")\\\r\n",
    "        .config(\"hive.metastore.uris\", \"thrift://hive-metastore:9083\")\\\r\n",
    "        .config(\"spark.sql.warehouse.dir\", \"/user/hive/warehouse\")\\\r\n",
    "        .enableHiveSupport()\\\r\n",
    "        .getOrCreate()\r\n",
    "\r\n",
    "spark.sparkContext.setLogLevel(\"ERROR\")"
   ]
  },
  {
   "cell_type": "markdown",
   "metadata": {},
   "source": [
    "## 3. The Data"
   ]
  },
  {
   "cell_type": "code",
   "execution_count": 2,
   "metadata": {
    "scrolled": true
   },
   "outputs": [
    {
     "name": "stdout",
     "output_type": "stream",
     "text": [
      "+----+--------------------+-------+-----------+-------------------+-------------+--------+---------+---------------+-----+--------------+-----------------+-----------+-----------------+------------------------------+----------------+\n",
      "|  id|                name|host_id|  host_name|neighbourhood_group|neighbourhood|latitude|longitude|      room_type|price|minimum_nights|number_of_reviews|last_review|reviews_per_month|calculated_host_listings_count|availability_365|\n",
      "+----+--------------------+-------+-----------+-------------------+-------------+--------+---------+---------------+-----+--------------+-----------------+-----------+-----------------+------------------------------+----------------+\n",
      "|2539|Clean & quiet apt...|   2787|       John|           Brooklyn|   Kensington|40.64749|-73.97237|   Private room|  149|             1|                9| 2018-10-19|             0.21|                             6|             365|\n",
      "|2595|Skylit Midtown Ca...|   2845|   Jennifer|          Manhattan|      Midtown|40.75362|-73.98377|Entire home/apt|  225|             1|               45| 2019-05-21|             0.38|                             2|             355|\n",
      "|3647|THE VILLAGE OF HA...|   4632|  Elisabeth|          Manhattan|       Harlem|40.80902| -73.9419|   Private room|  150|             3|                0|       NULL|             NULL|                             1|             365|\n",
      "|3831|Cozy Entire Floor...|   4869|LisaRoxanne|           Brooklyn| Clinton Hill|40.68514|-73.95976|Entire home/apt|   89|             1|              270| 2019-07-05|             4.64|                             1|             194|\n",
      "|5022|Entire Apt: Spaci...|   7192|      Laura|          Manhattan|  East Harlem|40.79851|-73.94399|Entire home/apt|   80|            10|                9| 2018-11-19|             0.10|                             1|               0|\n",
      "+----+--------------------+-------+-----------+-------------------+-------------+--------+---------+---------------+-----+--------------+-----------------+-----------+-----------------+------------------------------+----------------+\n",
      "only showing top 5 rows\n",
      "\n"
     ]
    }
   ],
   "source": [
    "data = spark.read.csv(\"AB_NYC_2019.csv\", sep=\",\", header=True, inferSchema=True)\n",
    "data.show(5)\n"
   ]
  },
  {
   "cell_type": "code",
   "execution_count": 3,
   "metadata": {},
   "outputs": [
    {
     "data": {
      "text/plain": [
       "<bound method DataFrame.describe of DataFrame[id: string, name: string, host_id: string, host_name: string, neighbourhood_group: string, neighbourhood: string, latitude: string, longitude: string, room_type: string, price: string, minimum_nights: string, number_of_reviews: string, last_review: string, reviews_per_month: string, calculated_host_listings_count: string, availability_365: int]>"
      ]
     },
     "execution_count": 3,
     "metadata": {},
     "output_type": "execute_result"
    }
   ],
   "source": [
    "data.describe"
   ]
  },
  {
   "cell_type": "code",
   "execution_count": 4,
   "metadata": {},
   "outputs": [
    {
     "data": {
      "text/plain": [
       "['id',\n",
       " 'name',\n",
       " 'host_id',\n",
       " 'host_name',\n",
       " 'neighbourhood_group',\n",
       " 'neighbourhood',\n",
       " 'latitude',\n",
       " 'longitude',\n",
       " 'room_type',\n",
       " 'price',\n",
       " 'minimum_nights',\n",
       " 'number_of_reviews',\n",
       " 'last_review',\n",
       " 'reviews_per_month',\n",
       " 'calculated_host_listings_count',\n",
       " 'availability_365']"
      ]
     },
     "execution_count": 4,
     "metadata": {},
     "output_type": "execute_result"
    }
   ],
   "source": [
    "data.columns"
   ]
  },
  {
   "cell_type": "code",
   "execution_count": 5,
   "metadata": {},
   "outputs": [
    {
     "data": {
      "text/plain": [
       "49079"
      ]
     },
     "execution_count": 5,
     "metadata": {},
     "output_type": "execute_result"
    }
   ],
   "source": [
    "data.count()"
   ]
  },
  {
   "cell_type": "code",
   "execution_count": null,
   "metadata": {},
   "outputs": [],
   "source": [
    "data.write.saveAsTable('hive_price_table')"
   ]
  },
  {
   "cell_type": "code",
   "execution_count": null,
   "metadata": {},
   "outputs": [],
   "source": [
    "ndf= spark.sql(\"\"\"\n",
    "select * from hive_price_table\n",
    "\"\"\")\n",
    "ndf.show(10)"
   ]
  },
  {
   "cell_type": "code",
   "execution_count": null,
   "metadata": {},
   "outputs": [],
   "source": [
    "avg_variance_price=spark.sql(\"\"\"\n",
    "SELECT AVG(price) asavg_price,\n",
    "VARIANCE(price) AS variance_price\n",
    "FROM hive_price_table\n",
    "WHERE price IS NOT NULL;\n",
    "\"\"\")\n",
    "print(avg_variance_price.head())"
   ]
  },
  {
   "cell_type": "code",
   "execution_count": 3,
   "metadata": {},
   "outputs": [],
   "source": [
    "\n",
    "import time\n",
    "from joblib import Parallel, delayed, cpu_count\n",
    "from mapper import mapper\n",
    "from reducer import reducer\n",
    "import numpy as np"
   ]
  },
  {
   "cell_type": "code",
   "execution_count": 2,
   "metadata": {},
   "outputs": [
    {
     "name": "stdout",
     "output_type": "stream",
     "text": [
      "avg_price=152.232218341763, variance_price=56901.13550261286\n",
      "Currents count=8\n",
      "CPU times: user 309 ms, sys: 156 ms, total: 465 ms\n",
      "Wall time: 13.7 s\n"
     ]
    }
   ],
   "source": [
    "%%time\n",
    "\n",
    "# Загружаем данные\n",
    "path = \"AB_NYC_2019.csv\"\n",
    "prices_pandas = mapper(path)\n",
    "\n",
    "# Разделяем данные на N частей\n",
    "N = cpu_count()\n",
    "chunks = np.array_split(prices_pandas, N)\n",
    "\n",
    "# Запускаем reducer параллельно для каждой части\n",
    "results = Parallel(n_jobs=N)(delayed(reducer)(chunk) for chunk in chunks)\n",
    "\n",
    "# Разбираем результаты\n",
    "total_count = sum(r[2] for r in results)  # Всего элементов\n",
    "overall_mean = sum(r[0] * r[2] for r in results) / total_count  # Общее среднее\n",
    "\n",
    "# Общая дисперсия\n",
    "variance_price = (\n",
    "    sum(r[2] * r[1] for r in results)  # ∑(n_i * σ_i^2)\n",
    "    + sum(r[2] * (r[0] - overall_mean) ** 2 for r in results)  # ∑ n_i * (x̄_i - x̄)^2\n",
    ") / total_count\n",
    "\n",
    "# Итоговое среднее\n",
    "avg_price = overall_mean\n",
    "\n",
    "print(f'avg_price={avg_price}, variance_price={variance_price}')\n",
    "print(f'Currents count={N}')\n"
   ]
  },
  {
   "cell_type": "code",
   "execution_count": null,
   "metadata": {},
   "outputs": [],
   "source": []
  }
 ],
 "metadata": {
  "kernelspec": {
   "display_name": "Python 3 (ipykernel)",
   "language": "python",
   "name": "python3"
  },
  "language_info": {
   "codemirror_mode": {
    "name": "ipython",
    "version": 3
   },
   "file_extension": ".py",
   "mimetype": "text/x-python",
   "name": "python",
   "nbconvert_exporter": "python",
   "pygments_lexer": "ipython3",
   "version": "3.11.6"
  }
 },
 "nbformat": 4,
 "nbformat_minor": 4
}
