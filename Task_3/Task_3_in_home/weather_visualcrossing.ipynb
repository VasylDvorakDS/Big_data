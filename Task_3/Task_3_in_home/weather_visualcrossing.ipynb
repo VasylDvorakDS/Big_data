{
 "cells": [
  {
   "cell_type": "code",
   "execution_count": 1,
   "id": "1b9adb5c-ff23-4572-906a-fbd63de2fc63",
   "metadata": {},
   "outputs": [],
   "source": [
    "import requests\n",
    "import psycopg2\n",
    "import pandas as pd\n",
    "from passwords_weather import api_key\n",
    "import io\n"
   ]
  },
  {
   "cell_type": "code",
   "execution_count": 60,
   "id": "0c97df8a-24ed-491e-8776-d48bbd3294fb",
   "metadata": {},
   "outputs": [],
   "source": [
    "# Функция для определения типов данных\n",
    "def infer_sql_type(dtype):\n",
    "    if pd.api.types.is_integer_dtype(dtype):\n",
    "        return \"INTEGER\"\n",
    "    elif pd.api.types.is_float_dtype(dtype):\n",
    "        return \"FLOAT\"\n",
    "    elif pd.api.types.is_datetime64_any_dtype(dtype):\n",
    "        return \"TIMESTAMP\"\n",
    "    else:\n",
    "        return \"TEXT\""
   ]
  },
  {
   "cell_type": "code",
   "execution_count": 61,
   "id": "a2777bdd-508b-4adf-9aa9-27a6926d8c91",
   "metadata": {},
   "outputs": [],
   "source": [
    "#Создание таблицы\n",
    "def create_table(df, table_name):\n",
    "    # Подключение к базе данных PostgreSQL\n",
    "    conn = psycopg2.connect(\n",
    "        dbname=\"database_weather\",\n",
    "        user=\"dvorak1981\",\n",
    "        password=\"admin\",\n",
    "        host=\"172.19.0.3\",\n",
    "        port=\"5432\",\n",
    "        connect_timeout=10  # Устанавливаем таймаут\n",
    "    )\n",
    "    cursor=conn.cursor()\n",
    "    \n",
    "    # Генерируем SQL-запрос для создания таблицы\n",
    "    columns_sql=\", \".join([f'\"{col}\" {infer_sql_type(df[col])}' for col in df.columns])\n",
    "    create_table_sql = f\"CREATE TABLE IF NOT EXISTS {table_name} ({columns_sql});\"\n",
    "    #Создаём таблицу\n",
    "    cursor.execute(create_table_sql)\n",
    "    conn.commit()\n",
    "    \n",
    "    cursor.close()\n",
    "    conn.close()\n",
    "    print(f'Таблица {table_name} создана или уже существует')"
   ]
  },
  {
   "cell_type": "code",
   "execution_count": 62,
   "id": "c6d99faa-fb8e-47a9-acd5-fa4cfead9493",
   "metadata": {},
   "outputs": [],
   "source": [
    "# Загружаем данные в PostgreSQL\n",
    "def load_data_in_postgerSQL (df, table_name):\n",
    "        # Подключение к базе данных PostgreSQL\n",
    "    conn = psycopg2.connect(\n",
    "        dbname=\"database_weather\",\n",
    "        user=\"dvorak1981\",\n",
    "        password=\"admin\",\n",
    "        host=\"172.19.0.3\",\n",
    "        port=\"5432\",\n",
    "        connect_timeout=10  # Устанавливаем таймаут\n",
    "    )\n",
    "    cursor=conn.cursor()\n",
    "    \n",
    "    for _, row in df.iterrows():\n",
    "        values = ', '.join([\"%s\"] * len(row)) #%s Предотвращает SQL-инъекции\n",
    "        insert_sql= f\"INSERT INTO {table_name} ({', '.join(df.columns)}) VALUES ({values})\"\n",
    "        cursor.execute(insert_sql, tuple(row))\n",
    "        conn.commit()\n",
    "    \n",
    "    cursor.close()\n",
    "    conn.close()"
   ]
  },
  {
   "cell_type": "code",
   "execution_count": 63,
   "id": "a62204f6-da5a-49da-aa70-d6c5fe6db354",
   "metadata": {},
   "outputs": [],
   "source": [
    "def get_weather_in_city_csv(city = \"Moscow\"):\n",
    "    params = {\n",
    "        \"unitGroup\": \"metric\",\n",
    "        \"key\": api_key,\n",
    "        \"contentType\": \"csv\",\n",
    "        \"include\": \"days\"\n",
    "    }\n",
    "\n",
    "    URL_base = f\"https://weather.visualcrossing.com/VisualCrossingWebServices/rest/services/timeline/{city}/last30days\"\n",
    "    response = requests.get(URL_base, params=params)\n",
    "\n",
    "\n",
    "    # Выводим итоговый URL\n",
    "    print(f\"Запрос: {response.request.url}\")\n",
    "\n",
    "    if response.status_code == 200:\n",
    "        name_of_table = f\"{city}_weather_for_last_30_days\"\n",
    "        df=pd.read_csv(io.BytesIO(response.content))\n",
    "        create_table(df, name_of_table)\n",
    "        load_data_in_postgerSQL(df, name_of_table)\n",
    "        print(f\"Данные {name_of_table} успешно сохранёны в PostgreSQL \")\n",
    "    else:\n",
    "        print(f\"Ошибка запроса для {city}: {response.status_code}, {response.text}\")"
   ]
  },
  {
   "cell_type": "code",
   "execution_count": 64,
   "id": "a08fa0ee-16cf-473b-80d6-cc5e84db5fba",
   "metadata": {},
   "outputs": [
    {
     "name": "stdout",
     "output_type": "stream",
     "text": [
      "Запрос: https://weather.visualcrossing.com/VisualCrossingWebServices/rest/services/timeline/Moscow/last30days?unitGroup=metric&key=ZJDQ2FLBSC67M32HYFY6VP3VK&contentType=csv&include=days\n",
      "Таблица Moscow_weather_for_last_30_days создана или уже существует\n",
      "Данные Moscow_weather_for_last_30_days успешно сохранёны в PostgreSQL \n",
      "Запрос: https://weather.visualcrossing.com/VisualCrossingWebServices/rest/services/timeline/London/last30days?unitGroup=metric&key=ZJDQ2FLBSC67M32HYFY6VP3VK&contentType=csv&include=days\n",
      "Таблица London_weather_for_last_30_days создана или уже существует\n",
      "Данные London_weather_for_last_30_days успешно сохранёны в PostgreSQL \n",
      "Запрос: https://weather.visualcrossing.com/VisualCrossingWebServices/rest/services/timeline/Kerch/last30days?unitGroup=metric&key=ZJDQ2FLBSC67M32HYFY6VP3VK&contentType=csv&include=days\n",
      "Таблица Kerch_weather_for_last_30_days создана или уже существует\n",
      "Данные Kerch_weather_for_last_30_days успешно сохранёны в PostgreSQL \n",
      "Запрос: https://weather.visualcrossing.com/VisualCrossingWebServices/rest/services/timeline/Krasnodar/last30days?unitGroup=metric&key=ZJDQ2FLBSC67M32HYFY6VP3VK&contentType=csv&include=days\n",
      "Таблица Krasnodar_weather_for_last_30_days создана или уже существует\n",
      "Данные Krasnodar_weather_for_last_30_days успешно сохранёны в PostgreSQL \n"
     ]
    },
    {
     "data": {
      "text/plain": [
       "[None, None, None, None]"
      ]
     },
     "execution_count": 64,
     "metadata": {},
     "output_type": "execute_result"
    }
   ],
   "source": [
    "cities= ['Moscow', 'London', 'Kerch', 'Krasnodar']\n",
    "list(map(get_weather_in_city_csv, cities))"
   ]
  },
  {
   "cell_type": "code",
   "execution_count": null,
   "id": "65f9cef3-9f13-45a9-863f-c234d3b28715",
   "metadata": {},
   "outputs": [],
   "source": []
  },
  {
   "cell_type": "code",
   "execution_count": 4,
   "id": "9a43860d-5c40-4b23-a8bc-ca71762d0130",
   "metadata": {},
   "outputs": [
    {
     "name": "stdout",
     "output_type": "stream",
     "text": [
      "['kerch_weather_for_last_30_days', 'krasnodar_weather_for_last_30_days', 'london_weather_for_last_30_days', 'moscow_weather_for_last_30_days']\n"
     ]
    },
    {
     "name": "stderr",
     "output_type": "stream",
     "text": [
      "/tmp/ipykernel_169/354708582.py:21: UserWarning: pandas only supports SQLAlchemy connectable (engine/connection) or database string URI or sqlite3 DBAPI2 connection. Other DBAPI2 objects are not tested. Please consider using SQLAlchemy.\n",
      "  df_tables = pd.read_sql(query, conn)\n",
      "/tmp/ipykernel_169/354708582.py:27: UserWarning: pandas only supports SQLAlchemy connectable (engine/connection) or database string URI or sqlite3 DBAPI2 connection. Other DBAPI2 objects are not tested. Please consider using SQLAlchemy.\n",
      "  df=pd.read_sql(f\"SELECT * FROM {table_name};\", conn)\n"
     ]
    }
   ],
   "source": [
    "# Сохранение таблиц в csv файлы на локальную машину\n",
    "conn=psycopg2.connect(\n",
    "    dbname='database_weather',\n",
    "    user='dvorak1981',\n",
    "    password='admin',\n",
    "    host='172.19.0.3',\n",
    "    port='5432'\n",
    ")\n",
    "\n",
    "# SQL-запрос для получения списка таблиц\n",
    "\n",
    "query=\"\"\"\n",
    "SELECT table_name\n",
    "FROM information_schema.tables\n",
    "WHERE table_schema = 'public'\n",
    "ORDER BY table_name;\n",
    "\"\"\"\n",
    "\n",
    "# Читаем данные в pandas DataFrame\n",
    "\n",
    "df_tables = pd.read_sql(query, conn)\n",
    "\n",
    "table_names=df_tables[\"table_name\"].tolist()\n",
    "print(table_names)\n",
    "\n",
    "for table_name in table_names:\n",
    "    df=pd.read_sql(f\"SELECT * FROM {table_name};\", conn)\n",
    "    # Сохраняем в CSV\n",
    "    df.to_csv(f\"{table_name}.csv\", index = False)\n",
    "\n",
    "conn.close()"
   ]
  },
  {
   "cell_type": "code",
   "execution_count": null,
   "id": "9b07eb66-a269-4fb9-af2a-7414365087b6",
   "metadata": {},
   "outputs": [],
   "source": []
  }
 ],
 "metadata": {
  "kernelspec": {
   "display_name": "Python 3 (ipykernel)",
   "language": "python",
   "name": "python3"
  },
  "language_info": {
   "codemirror_mode": {
    "name": "ipython",
    "version": 3
   },
   "file_extension": ".py",
   "mimetype": "text/x-python",
   "name": "python",
   "nbconvert_exporter": "python",
   "pygments_lexer": "ipython3",
   "version": "3.11.6"
  }
 },
 "nbformat": 4,
 "nbformat_minor": 5
}
