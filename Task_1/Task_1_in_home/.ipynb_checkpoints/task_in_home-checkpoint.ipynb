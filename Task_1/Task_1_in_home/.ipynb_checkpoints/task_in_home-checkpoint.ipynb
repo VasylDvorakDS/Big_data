{
 "cells": [
  {
   "cell_type": "markdown",
   "metadata": {
    "id": "dSCZYSMrTtEM"
   },
   "source": [
    "Сделайте mapper и reducer, чтобы посчитать среднее и дисперсию оценок за фильм."
   ]
  },
  {
   "cell_type": "markdown",
   "metadata": {
    "id": "g6AlGOz7aws5"
   },
   "source": [
    "Реализация через цикл (предпогаем, что мы не знаем сколько у нас фильмов):"
   ]
  },
  {
   "cell_type": "code",
   "execution_count": 1,
   "metadata": {},
   "outputs": [],
   "source": [
    "import opendatasets as od\n",
    "import pandas as pd\n",
    "import time\n",
    "from pathlib import Path\n",
    "import json\n",
    "from functools import reduce\n",
    "from joblib import Parallel, delayed, cpu_count"
   ]
  },
  {
   "cell_type": "code",
   "execution_count": 2,
   "metadata": {
    "colab": {
     "base_uri": "https://localhost:8080/"
    },
    "id": "yBhMEH50MCyf",
    "outputId": "c7b71698-ea06-4ef8-929e-95f18e9b3e7e"
   },
   "outputs": [
    {
     "name": "stdout",
     "output_type": "stream",
     "text": [
      "8.03 1.0517128885774865\n"
     ]
    }
   ],
   "source": [
    "\n",
    "n, mean, M2 = 0, 0.0, 0\n",
    "for path in Path('imdb-user-reviews').glob('**/*'):\n",
    "    if path.is_file() and path.suffix == '.json':\n",
    "        with open(path, 'r') as f:\n",
    "            info = json.load(f)\n",
    "        score = float(info['movieIMDbRating'])\n",
    "        n += 1\n",
    "        delta = score - mean\n",
    "        mean += delta / n\n",
    "        M2 += delta * (score - mean)\n",
    "\n",
    "print(mean, (M2 / n) ** (1/2))"
   ]
  },
  {
   "cell_type": "markdown",
   "metadata": {
    "id": "Ic09ccPLbMUR"
   },
   "source": [
    "На основе этого кода соберите mapper и reducer:"
   ]
  },
  {
   "cell_type": "code",
   "execution_count": 3,
   "metadata": {
    "id": "27ix083ng2kO"
   },
   "outputs": [],
   "source": [
    "def mapper(path):\n",
    "    if path.is_file() and path.suffix == '.json':\n",
    "        with open(path, 'r') as f:\n",
    "            loaded = json.load(f)\n",
    "            score = (float(loaded['movieIMDbRating']), )\n",
    "        return score\n",
    "\n",
    "def reducer(score_data1, score_data2):\n",
    "    if score_data1 is not None and score_data2 is not None:\n",
    "        scores = []\n",
    "        if len(score_data1) == 1:\n",
    "            n, mean, M2 = 0, 0.0, 0.0\n",
    "            scores.append(score_data1[0])\n",
    "        else:\n",
    "            n, mean, M2 = score_data1\n",
    "            scores.append(score_data2[0])\n",
    "        for score in scores:\n",
    "            n += 1\n",
    "            delta = score - mean\n",
    "            mean += delta / n\n",
    "            M2 += delta * (score - mean)\n",
    "        return n, mean, M2\n",
    "    \n",
    "    \n",
    "    elif score_data1 is None:\n",
    "        return score_data2\n",
    "    elif score_data2 is None:\n",
    "        return score_data1\n",
    "    else:\n",
    "        return None\n"
   ]
  },
  {
   "cell_type": "code",
   "execution_count": 4,
   "metadata": {
    "id": "aBa-fXxFg40_"
   },
   "outputs": [
    {
     "name": "stdout",
     "output_type": "stream",
     "text": [
      "7.944444444444445 1.0750825406152789\n",
      "Wall time: 5 ms\n"
     ]
    }
   ],
   "source": [
    "%%time\n",
    "n, mean, M2 = reduce(reducer, map(mapper, Path('imdb-user-reviews').glob('**/*')))\n",
    "print(mean, (M2 / n) ** (1/2))"
   ]
  },
  {
   "cell_type": "code",
   "execution_count": null,
   "metadata": {},
   "outputs": [],
   "source": []
  },
  {
   "cell_type": "code",
   "execution_count": 5,
   "metadata": {},
   "outputs": [
    {
     "name": "stdout",
     "output_type": "stream",
     "text": [
      "7.944444444444445 1.0750825406152789\n",
      "Количество ядер:  1\n",
      "Время выполнения: 0.01 секунд.\n",
      "\n",
      "7.944444444444445 1.0750825406152789\n",
      "Количество ядер:  2\n",
      "Время выполнения: 0.74 секунд.\n",
      "\n",
      "7.944444444444445 1.0750825406152789\n",
      "Количество ядер:  3\n",
      "Время выполнения: 0.78 секунд.\n",
      "\n",
      "7.944444444444445 1.0750825406152789\n",
      "Количество ядер:  4\n",
      "Время выполнения: 0.09 секунд.\n",
      "\n",
      "7.944444444444445 1.0750825406152789\n",
      "Количество ядер:  5\n",
      "Время выполнения: 1.38 секунд.\n",
      "\n",
      "7.944444444444445 1.0750825406152789\n",
      "Количество ядер:  6\n",
      "Время выполнения: 0.09 секунд.\n",
      "\n",
      "7.944444444444445 1.0750825406152789\n",
      "Количество ядер:  7\n",
      "Время выполнения: 0.23 секунд.\n",
      "\n",
      "7.944444444444445 1.0750825406152789\n",
      "Количество ядер:  8\n",
      "Время выполнения: 0.09 секунд.\n",
      "\n"
     ]
    }
   ],
   "source": [
    "for N in range(1, cpu_count()+1):\n",
    "    start_time = time.time()\n",
    "    n, mean, M2 = reduce(reducer, Parallel(n_jobs=N)(delayed(mapper)(path)for path in list(Path('imdb-user-reviews').glob('**/*')))) \n",
    "    print(mean, (M2/n)**(1/2))\n",
    "    print ('Количество ядер: ', N )\n",
    "    print(f'Время выполнения: {round(time.time() - start_time, 2)} секунд.\\n')"
   ]
  },
  {
   "cell_type": "code",
   "execution_count": null,
   "metadata": {},
   "outputs": [],
   "source": []
  }
 ],
 "metadata": {
  "colab": {
   "provenance": []
  },
  "kernelspec": {
   "display_name": "Python 3 (ipykernel)",
   "language": "python",
   "name": "python3"
  },
  "language_info": {
   "codemirror_mode": {
    "name": "ipython",
    "version": 3
   },
   "file_extension": ".py",
   "mimetype": "text/x-python",
   "name": "python",
   "nbconvert_exporter": "python",
   "pygments_lexer": "ipython3",
   "version": "3.7.0"
  }
 },
 "nbformat": 4,
 "nbformat_minor": 4
}
