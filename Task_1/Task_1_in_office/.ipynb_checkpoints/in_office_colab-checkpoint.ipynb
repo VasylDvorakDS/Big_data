{
 "cells": [
  {
   "cell_type": "code",
   "execution_count": 4,
   "metadata": {
    "id": "XIfz_-umSGhB"
   },
   "outputs": [],
   "source": [
    "from tqdm import tqdm\n",
    "import numpy as np\n",
    "\n",
    "from multiprocessing import Pool\n",
    "POOL_THREADS = 2\n",
    "\n",
    "def fmmult(t):\n",
    "    return np.sum(t)\n",
    "\n",
    "def predict_function_multy_tqdm_light(vector, POOL_THREADS):\n",
    "    jobs = [x for x in vector]\n",
    "    pool = Pool(POOL_THREADS)\n",
    "    found = list(tqdm(pool.imap(fmmult, jobs), total=len(jobs)))\n",
    "    pool.close()\n",
    "    pool.join()\n",
    "    return found\n"
   ]
  },
  {
   "cell_type": "code",
   "execution_count": 9,
   "metadata": {
    "colab": {
     "base_uri": "https://localhost:8080/"
    },
    "id": "2jg7EJsZSb5O",
    "outputId": "c1df3885-e99a-43a4-d2c1-4ba2708337d0"
   },
   "outputs": [
    {
     "name": "stderr",
     "output_type": "stream",
     "text": [
      "100%|██████████| 3000000/3000000 [05:23<00:00, 9286.31it/s] "
     ]
    },
    {
     "name": "stdout",
     "output_type": "stream",
     "text": [
      "CPU times: user 3min 18s, sys: 1min 6s, total: 4min 24s\n",
      "Wall time: 5min 23s\n"
     ]
    },
    {
     "name": "stderr",
     "output_type": "stream",
     "text": [
      "\n"
     ]
    },
    {
     "data": {
      "text/plain": [
       "3000000"
      ]
     },
     "execution_count": 9,
     "metadata": {},
     "output_type": "execute_result"
    }
   ],
   "source": [
    "%%time\n",
    "vector = [[1,2,3], [4,5,6], [7,8,9]]*1000000\n",
    "\n",
    "v = predict_function_multy_tqdm_light(vector, POOL_THREADS)\n",
    "len(v)"
   ]
  }
 ],
 "metadata": {
  "colab": {
   "provenance": []
  },
  "kernelspec": {
   "display_name": "Python 3 (ipykernel)",
   "language": "python",
   "name": "python3"
  },
  "language_info": {
   "codemirror_mode": {
    "name": "ipython",
    "version": 3
   },
   "file_extension": ".py",
   "mimetype": "text/x-python",
   "name": "python",
   "nbconvert_exporter": "python",
   "pygments_lexer": "ipython3",
   "version": "3.7.0"
  }
 },
 "nbformat": 4,
 "nbformat_minor": 1
}
